{
 "cells": [
  {
   "cell_type": "code",
   "execution_count": 175,
   "metadata": {},
   "outputs": [
    {
     "name": "stdout",
     "output_type": "stream",
     "text": [
      "The sql extension is already loaded. To reload it, use:\n",
      "  %reload_ext sql\n"
     ]
    }
   ],
   "source": [
    "%load_ext sql\n",
    "%sql postgresql://appdev@data:5432/appdev\n",
    "import pandas as pandas\n",
    "import matplotlib.pyplot as plt\n",
    "import numpy as numpy"
   ]
  },
  {
   "cell_type": "code",
   "execution_count": 60,
   "metadata": {},
   "outputs": [
    {
     "name": "stdout",
     "output_type": "stream",
     "text": [
      "Done.\n",
      "Done.\n",
      "Done.\n",
      "Done.\n",
      "Done.\n",
      "Done.\n",
      "Done.\n",
      "Done.\n"
     ]
    },
    {
     "data": {
      "text/plain": [
       "[]"
      ]
     },
     "execution_count": 60,
     "metadata": {},
     "output_type": "execute_result"
    }
   ],
   "source": [
    "%sql drop table value;\n",
    "%sql drop table subject;\n",
    "%sql drop table frequency;\n",
    "%sql drop table measure;\n",
    "%sql drop table location;\n",
    "%sql drop table flak;\n",
    "%sql drop table time;\n",
    "%sql drop table indicator;\n"
   ]
  },
  {
   "cell_type": "code",
   "execution_count": 61,
   "metadata": {},
   "outputs": [
    {
     "name": "stdout",
     "output_type": "stream",
     "text": [
      "Done.\n",
      "Done.\n",
      "Done.\n",
      "Done.\n",
      "Done.\n",
      "Done.\n",
      "Done.\n"
     ]
    },
    {
     "data": {
      "text/plain": [
       "[]"
      ]
     },
     "execution_count": 61,
     "metadata": {},
     "output_type": "execute_result"
    }
   ],
   "source": [
    "%sql create table subject(id serial primary key,subject varchar(100) unique);\n",
    "%sql create table frequency(id serial primary key,frequency varchar(100) unique);\n",
    "%sql create table measure(id serial primary key,measure varchar(100) unique);\n",
    "%sql create table location(id serial primary key,location varchar(100) unique);\n",
    "%sql create table flak(id serial primary key,flak varchar(100) unique);\n",
    "%sql create table time(id serial primary key,time varchar(100) unique);\n",
    "%sql create table indicator(id serial primary key,indicator varchar(100) unique);"
   ]
  },
  {
   "cell_type": "code",
   "execution_count": 62,
   "metadata": {},
   "outputs": [
    {
     "name": "stdout",
     "output_type": "stream",
     "text": [
      "Done.\n"
     ]
    },
    {
     "data": {
      "text/plain": [
       "[]"
      ]
     },
     "execution_count": 62,
     "metadata": {},
     "output_type": "execute_result"
    }
   ],
   "source": [
    "%%sql create table value(id serial primary key,value numeric, \n",
    "                         measureID int references measure(id), \n",
    "                         timeID int references time(id), \n",
    "                         subjectID int references subject(id), \n",
    "                         frequencyID int references frequency(id), \n",
    "                         flakID int references flak(id), \n",
    "                         locationID int references location(id), \n",
    "                         indicatorID int references indicator(id),\n",
    "                         constraint uni_tup unique (measureID, timeID, subjectID,flakID,locationID,indicatorID));"
   ]
  },
  {
   "cell_type": "code",
   "execution_count": 18,
   "metadata": {},
   "outputs": [],
   "source": []
  },
  {
   "cell_type": "code",
   "execution_count": 48,
   "metadata": {},
   "outputs": [],
   "source": [
    "edu = pandas.read_csv(\"education.csv\");\n",
    "gdp = pandas.read_csv(\"gdp.csv\");\n",
    "life = pandas.read_csv(\"lifeexpectancy.csv\");"
   ]
  },
  {
   "cell_type": "code",
   "execution_count": 67,
   "metadata": {},
   "outputs": [
    {
     "name": "stdout",
     "output_type": "stream",
     "text": [
      "59 rows affected.\n",
      "6 rows affected.\n",
      "1 rows affected.\n",
      "3 rows affected.\n",
      "4 rows affected.\n",
      "58 rows affected.\n",
      "2 rows affected.\n",
      "8228 rows affected.\n"
     ]
    }
   ],
   "source": [
    "import csv\n",
    "import psycopg2\n",
    "\n",
    "conn = psycopg2.connect(\"host=data dbname=appdev user=appdev\")\n",
    "cur = conn.cursor()\n",
    "list_loc = %sql select location from location;\n",
    "list_subject = %sql select subject from subject;\n",
    "list_frequency = %sql select frequency from frequency;\n",
    "list_measure = %sql select measure from measure;\n",
    "list_flak = %sql select flak from flak;\n",
    "list_time = %sql select time from time;\n",
    "list_indicator = %sql select indicator from indicator;\n",
    "list_value = %sql select * from value;\n",
    "with open('lifeexpectancy.csv', 'r') as f:\n",
    "    reader = csv.reader(f)\n",
    "    next(reader)  # Skip the header row.\n",
    "    for row in reader:\n",
    "        if ((row[0],) not in list_loc):\n",
    "            list_loc.append((row[0],))\n",
    "            cur.execute(\n",
    "            \"INSERT INTO location (location) VALUES ('%s')\" %\n",
    "            row[0])\n",
    "            conn.commit()\n",
    "            \n",
    "        if ((row[1],) not in list_indicator):\n",
    "            list_indicator.append((row[1],))\n",
    "            cur.execute(\n",
    "            \"INSERT INTO indicator (indicator) VALUES ('%s')\" %\n",
    "            row[1])\n",
    "            conn.commit()\n",
    "            \n",
    "        if ((row[2],) not in list_subject):\n",
    "            list_subject.append((row[2],))\n",
    "            cur.execute(\n",
    "            \"INSERT INTO subject (subject) VALUES ('%s')\" %\n",
    "            row[2])\n",
    "            conn.commit()\n",
    "            \n",
    "        if ((row[3],) not in list_measure):\n",
    "            list_measure.append((row[3],))\n",
    "            cur.execute(\n",
    "            \"INSERT INTO measure (measure) VALUES ('%s')\" %\n",
    "            row[3])\n",
    "            conn.commit()\n",
    "            \n",
    "        if ((row[4],) not in list_frequency):\n",
    "            list_frequency.append((row[4],))\n",
    "            cur.execute(\n",
    "            \"INSERT INTO frequency (frequency) VALUES ('%s')\" %\n",
    "            row[4])\n",
    "            conn.commit()\n",
    "            \n",
    "        if ((row[5],) not in list_time):\n",
    "            list_time.append((row[5],))\n",
    "            cur.execute(\n",
    "            \"INSERT INTO time (time) VALUES ('%s')\" %\n",
    "            row[5])\n",
    "            conn.commit()\n",
    "            \n",
    "        if ((row[7],) not in list_flak):\n",
    "            list_flak.append((row[7],))\n",
    "            cur.execute(\n",
    "            \"INSERT INTO flak (flak) VALUES ('%s')\" %\n",
    "            row[7])\n",
    "            conn.commit()\n",
    "        \n",
    "        list_flak.append(row[6])\n",
    "        cur.execute(\n",
    "        \"INSERT INTO value (value,measureID,timeID,subjectID,frequencyID,flakID,locationID,indicatorID) \"\n",
    "        \"VALUES \"\n",
    "            \"(%s\"\n",
    "            \",(select id from measure where measure.measure like '%s')\"\n",
    "            \",(select id from time where time.time like '%s')\"\n",
    "            \",(select id from subject where subject.subject like '%s')\"\n",
    "            \",(select id from frequency where frequency.frequency like '%s')\"\n",
    "            \",(select id from flak where flak.flak like '%s')\"\n",
    "            \",(select id from location where location.location like '%s')\"\n",
    "            \",(select id from indicator where indicator.indicator like '%s'))\" % \n",
    "            (row[6],row[3],row[5],row[2],row[4],row[7],row[0],row[1])\n",
    "            )\n",
    "        conn.commit()\n",
    "        \n",
    "    #print(list)\n",
    "\n"
   ]
  },
  {
   "cell_type": "code",
   "execution_count": 21,
   "metadata": {},
   "outputs": [
    {
     "name": "stdout",
     "output_type": "stream",
     "text": [
      "AUS\n"
     ]
    }
   ],
   "source": [
    "import csv\n",
    "import psycopg2\n",
    "\n",
    "conn = psycopg2.connect(\"host=data dbname=appdev user=appdev\")\n",
    "cur = conn.cursor()\n",
    "with open('education.csv', 'r') as f:\n",
    "    reader = csv.reader(f)\n",
    "    next(reader)\n",
    "    print(next(reader)[0])\n",
    "    \n",
    "    "
   ]
  },
  {
   "cell_type": "code",
   "execution_count": 102,
   "metadata": {
    "scrolled": true
   },
   "outputs": [
    {
     "name": "stdout",
     "output_type": "stream",
     "text": [
      "2 rows affected.\n"
     ]
    },
    {
     "data": {
      "text/html": [
       "<table>\n",
       "    <tr>\n",
       "        <th>location</th>\n",
       "        <th>value_sum</th>\n",
       "        <th>value_co</th>\n",
       "        <th>Growth rate</th>\n",
       "    </tr>\n",
       "    <tr>\n",
       "        <td>CHN</td>\n",
       "        <td>192295223.3455</td>\n",
       "        <td>36</td>\n",
       "        <td>538970.189086111111</td>\n",
       "    </tr>\n",
       "    <tr>\n",
       "        <td>USA</td>\n",
       "        <td>398089090.8</td>\n",
       "        <td>48</td>\n",
       "        <td>381556.666666666667</td>\n",
       "    </tr>\n",
       "</table>"
      ],
      "text/plain": [
       "[('CHN', Decimal('192295223.3455'), 36, Decimal('538970.189086111111')),\n",
       " ('USA', Decimal('398089090.8'), 48, Decimal('381556.666666666667'))]"
      ]
     },
     "execution_count": 102,
     "metadata": {},
     "output_type": "execute_result"
    }
   ],
   "source": [
    "%%sql select location.location,sum(value) as value_sum,count(value) as value_co, ((max(value) - min(value)) / count(value))  as \"Growth rate\" from value\n",
    "join location on (location.id = locationID)\n",
    "where indicatorID = 1\n",
    "AND measureID = 1\n",
    "AND locationID not in (43,44,42,49)\n",
    "group by location.location\n",
    "order by \"Growth rate\" desc\n",
    "limit 2;"
   ]
  },
  {
   "cell_type": "code",
   "execution_count": 99,
   "metadata": {
    "scrolled": true
   },
   "outputs": [
    {
     "name": "stdout",
     "output_type": "stream",
     "text": [
      "1 rows affected.\n"
     ]
    },
    {
     "data": {
      "text/html": [
       "<table>\n",
       "    <tr>\n",
       "        <th>location</th>\n",
       "        <th>value_sum</th>\n",
       "        <th>value_co</th>\n",
       "        <th>Growth rate</th>\n",
       "    </tr>\n",
       "    <tr>\n",
       "        <td>ISL</td>\n",
       "        <td>345719.7709</td>\n",
       "        <td>48</td>\n",
       "        <td>364.3414000000000000</td>\n",
       "    </tr>\n",
       "</table>"
      ],
      "text/plain": [
       "[('ISL', Decimal('345719.7709'), 48, Decimal('364.3414000000000000'))]"
      ]
     },
     "execution_count": 99,
     "metadata": {},
     "output_type": "execute_result"
    }
   ],
   "source": [
    "%%sql select location.location,sum(value) as value_sum,count(value) as value_co, ((max(value) - min(value)) / count(value))  as \"Growth rate\" from value\n",
    "join location on (location.id = locationID)\n",
    "where indicatorID = 1\n",
    "AND measureID = 1\n",
    "AND locationID not in (43,44,42,49)\n",
    "group by location.location\n",
    "order by \"Growth rate\" asc\n",
    "limit 1;"
   ]
  },
  {
   "cell_type": "code",
   "execution_count": 153,
   "metadata": {
    "scrolled": true
   },
   "outputs": [
    {
     "name": "stdout",
     "output_type": "stream",
     "text": [
      "35 rows affected.\n",
      "35 rows affected.\n",
      "35 rows affected.\n",
      "13 rows affected.\n",
      "13 rows affected.\n",
      "13 rows affected.\n"
     ]
    }
   ],
   "source": [
    "usa_try = %sql select value as \"try\",lifeexp from value join location on (location.id = locationID) join subject on (subject.id = subjectID) join (select timeID,value as lifeexp from value where indicatorID = 3 AND subjectID = 1 AND locationID = 30) as lifeexp on (lifeexp.timeID = value.timeID) join time on (time.id = value.timeid) where location like 'USA' AND subject like 'TRY'\n",
    "usa_below = %sql select value as \"below\",lifeexp from value join location on (location.id = locationID) join subject on (subject.id = subjectID) join (select timeID,value as lifeexp from value where indicatorID = 3 AND subjectID = 1 AND locationID = 30) as lifeexp on (lifeexp.timeID = value.timeID) join time on (time.id = value.timeid) where location like 'USA' AND subject like 'BUPPSRY'\n",
    "usa_upper = %sql select value as \"upper\",lifeexp from value join location on (location.id = locationID) join subject on (subject.id = subjectID) join (select timeID,value as lifeexp from value where indicatorID = 3 AND subjectID = 1 AND locationID = 30) as lifeexp on (lifeexp.timeID = value.timeID) join time on (time.id = value.timeid) where location like 'USA' AND subject like 'UPPSRY'\n",
    "isl_try = %sql select value as \"try\",lifeexp from value join location on (location.id = locationID) join subject on (subject.id = subjectID) join (select timeID,value as lifeexp from value where indicatorID = 3 AND subjectID = 1 AND locationID = 30) as lifeexp on (lifeexp.timeID = value.timeID) join time on (time.id = value.timeid) where location like 'ISL' AND subject like 'TRY'\n",
    "isl_below = %sql select value as \"below\",lifeexp from value join location on (location.id = locationID) join subject on (subject.id = subjectID) join (select timeID,value as lifeexp from value where indicatorID = 3 AND subjectID = 1 AND locationID = 30) as lifeexp on (lifeexp.timeID = value.timeID) join time on (time.id = value.timeid) where location like 'ISL' AND subject like 'BUPPSRY'\n",
    "isl_upper = %sql select value as \"upper\",lifeexp from value join location on (location.id = locationID) join subject on (subject.id = subjectID) join (select timeID,value as lifeexp from value where indicatorID = 3 AND subjectID = 1 AND locationID = 30) as lifeexp on (lifeexp.timeID = value.timeID) join time on (time.id = value.timeid) where location like 'ISL' AND subject like 'UPPSRY'"
   ]
  },
  {
   "cell_type": "code",
   "execution_count": 209,
   "metadata": {},
   "outputs": [
    {
     "data": {
      "image/png": "[encoded data removed]",
      "text/plain": [
       "<matplotlib.figure.Figure at 0x7f40c17c6ba8>"
      ]
     },
     "metadata": {},
     "output_type": "display_data"
    }
   ],
   "source": [
    "us1 = pandas.DataFrame(usa_try, columns=['try', 'lifeexp'])\n",
    "us2 = pandas.DataFrame(usa_below, columns=['below', 'lifeexp'])\n",
    "us3 = pandas.DataFrame(usa_upper, columns=['upper', 'lifeexp'])\n",
    "us1=us1.astype(float)\n",
    "us2=us2.astype(float)\n",
    "us3=us3.astype(float)\n",
    "\n",
    "us_try_x = []\n",
    "us_try_y = []\n",
    "for ele in usa_try:\n",
    "    us_try_x.append(ele[0])\n",
    "    us_try_y.append(ele[1])\n",
    "    \n",
    "us_below_x = []\n",
    "us_below_y = []\n",
    "for ele in usa_below:\n",
    "    us_below_x.append(ele[0])\n",
    "    us_below_y.append(ele[1])\n",
    "    \n",
    "us_upper_x = []\n",
    "us_upper_y = []\n",
    "for ele in usa_upper:\n",
    "    us_upper_x.append(ele[0])\n",
    "    us_upper_y.append(ele[1])\n",
    "\n",
    "is_try_x = []\n",
    "is_try_y = []\n",
    "for ele in isl_try:\n",
    "    is_try_x.append(ele[0])\n",
    "    is_try_y.append(ele[1])\n",
    "    \n",
    "is_below_x = []\n",
    "is_below_y = []\n",
    "for ele in isl_below:\n",
    "    is_below_x.append(ele[0])\n",
    "    is_below_y.append(ele[1])\n",
    "    \n",
    "is_upper_x = []\n",
    "is_upper_y = []\n",
    "for ele in isl_upper:\n",
    "    is_upper_x.append(ele[0])\n",
    "    is_upper_y.append(ele[1])\n",
    "\n",
    "plt.xlabel('% of population educated')\n",
    "plt.ylabel('lifeexp')\n",
    "plt.title('stay in school = infinite life for Iceland')\n",
    "plt.text(40,78,'cyan=upper\\ngreen=below\\nred=try',fontsize=12)\n",
    "plt.plot(is_try_x,is_try_y,'ro',is_below_x,is_below_y,'go',is_upper_x,is_upper_y,'co')\n",
    "plt.show()\n"
   ]
  },
  {
   "cell_type": "code",
   "execution_count": 210,
   "metadata": {},
   "outputs": [
    {
     "data": {
      "image/png": "[encoded data removed]",
      "text/plain": [
       "<matplotlib.figure.Figure at 0x7f40c180ae48>"
      ]
     },
     "metadata": {},
     "output_type": "display_data"
    }
   ],
   "source": [
    "plt.xlabel('% of population educated')\n",
    "plt.ylabel('lifeexp')\n",
    "plt.title('stay in school = infinite life for usa')\n",
    "plt.text(64,77,'cyan=upper\\ngreen=below\\nred=try',fontsize=12)\n",
    "plt.plot(us_try_x,us_try_y,'rp',us_below_x,us_below_y,'gp',us_upper_x,us_upper_y,'cp',)\n",
    "plt.show()\n"
   ]
  }
 ],
 "metadata": {
  "kernelspec": {
   "display_name": "Python 3",
   "language": "python",
   "name": "python3"
  },
  "language_info": {
   "codemirror_mode": {
    "name": "ipython",
    "version": 3
   },
   "file_extension": ".py",
   "mimetype": "text/x-python",
   "name": "python",
   "nbconvert_exporter": "python",
   "pygments_lexer": "ipython3",
   "version": "3.6.3"
  }
 },
 "nbformat": 4,
 "nbformat_minor": 2
}
